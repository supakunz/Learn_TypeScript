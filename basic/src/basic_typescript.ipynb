{
 "cells": [
  {
   "cell_type": "markdown",
   "id": "d7b2a93e",
   "metadata": {},
   "source": [
    "### Static Types: ระบบตรวจสอบประเภทข้อมูล (1)\n",
    "ตัวอย่างการกำหนดประเภทข้อมูลใน JavaScript และ TypeScript สำหรับสินค้า"
   ]
  },
  {
   "cell_type": "code",
   "execution_count": null,
   "id": "5506da31",
   "metadata": {
    "vscode": {
     "languageId": "typescript"
    }
   },
   "outputs": [],
   "source": [
    "// JavaScript (*.js) ปกติ\n",
    "const products = [\n",
    "  { id: 1, name: 'Laptop', price: 1000, quantity: 4 },\n",
    "  { id: 2, name: 'Smartphone', price: 800, quantity: 6, isBestSeller: true },\n",
    "  { id: 3, name: 'Tablet', price: 500, quantity: 3, isPremium: true },\n",
    "  { id: 4, name: 'Monitor', price: 1200, quantity: 2 },\n",
    "];\n",
    "\n",
    "// TypeScript (*.ts) \n",
    "type Product = {\n",
    "  id: number;\n",
    "  name: string;\n",
    "  price: number;\n",
    "  quantity: number;\n",
    "  isBestSeller?: boolean;\n",
    "  isPremium?: boolean;\n",
    "};\n",
    "\n",
    "const productstype: Product[] = [\n",
    "  { id: 1, name: 'Laptop', price: 1000, quantity: 4 },\n",
    "  { id: 2, name: 'Smartphone', price: 800, quantity: 6, isBestSeller: true },\n",
    "  { id: 3, name: 'Tablet', price: 500, quantity: 3, isPremium: true },\n",
    "  { id: 4, name: 'Monitor', price: 1200, quantity: 2 },\n",
    "];"
   ]
  },
  {
   "cell_type": "markdown",
   "id": "027c2f33",
   "metadata": {},
   "source": [
    "### Static Types: ระบบตรวจสอบประเภทข้อมูล (2)\n",
    "ตัวอย่างการกำหนดประเภทข้อมูลสำหรับผู้ใช้และการตรวจสอบข้อมูล"
   ]
  },
  {
   "cell_type": "code",
   "execution_count": null,
   "id": "03cf0e76",
   "metadata": {
    "vscode": {
     "languageId": "typescript"
    }
   },
   "outputs": [],
   "source": [
    "// JavaScript\n",
    "const usersData = [\n",
    "  { id: 1, name: 'Alice', age: 25 },\n",
    "  { id: 2, name: 'Bob', age: null }, // Invalid age\n",
    "  { id: 3, name: null, age: 30 },    // Invalid name\n",
    "  { id: 4, name: 'Charlie', age: 35 },\n",
    "];\n",
    "\n",
    "// TypeScript\n",
    "type User = {\n",
    "  id: number;\n",
    "  name: string | null;\n",
    "  age: number | null;\n",
    "};\n",
    "\n",
    "const usersDatatype: User[] = [\n",
    "  { id: 1, name: 'Alice', age: 25 },\n",
    "  { id: 2, name: 'Bob', age: null }, // Invalid age\n",
    "  { id: 3, name: null, age: 30 },    // Invalid name\n",
    "  { id: 4, name: 'Charlie', age: 35 },\n",
    "];\n",
    "\n",
    "function getUser(fromId: number): User {\n",
    "  const user = usersDatatype.find(user => user.id === fromId);\n",
    "  if (!user) {\n",
    "    throw new Error(`User with id ${fromId} not found`);\n",
    "  }\n",
    "  return user;\n",
    "}\n",
    "\n",
    "console.log(getUser(1)); // { id: 1, name: 'Alice', age: 25 }"
   ]
  },
  {
   "cell_type": "markdown",
   "id": "3506d84d",
   "metadata": {},
   "source": [
    "### Static Types: ระบบตรวจสอบประเภทข้อมูล (3)\n",
    "ตัวอย่างการกำหนดข้อมูล config และฟังก์ชันสำหรับเลือก environment"
   ]
  },
  {
   "cell_type": "code",
   "execution_count": null,
   "id": "41c200f1",
   "metadata": {},
   "outputs": [],
   "source": [
    "const config = {\n",
    "  production: {\n",
    "    api: 'https://api.example.com',\n",
    "    debug: false,\n",
    "    features: ['member', 'admin', 'payment.creditCard', 'payment.cash']\n",
    "  },\n",
    "  development: {\n",
    "    api: 'https://localhost:3000/api',\n",
    "    debug: true,\n",
    "    features: ['member', 'admin', 'payment.creditCard', 'payment.cash', 'payment.qrCode', 'payment.wallet', 'payment.cash']\n",
    "  }\n",
    "}\n",
    "\n",
    "function getConfig(env) {\n",
    "  const config = config[env]\n",
    "  if (!config) {\n",
    "    throw new Error(`Invalid environment: ${env}`)\n",
    "  }\n",
    "  return config\n",
    "}"
   ]
  },
  {
   "cell_type": "markdown",
   "id": "f23ce6bd",
   "metadata": {},
   "source": [
    "### Defining Types: ภาพรวมการกำหนดประเภทข้อมูล (Inference & Reference)\n",
    "\n",
    "- Inference (Implicit) TypeScript จะเดาชนิดข้อมูลให้อัตโนมัติจากค่าที่กำหนดค่าตัวแปร\n",
    "\n",
    "- Reference (Explicit) การระบุชนิดข้อมูลเองโดยใช้ Type Annotation"
   ]
  },
  {
   "cell_type": "code",
   "execution_count": null,
   "id": "71e425eb",
   "metadata": {
    "vscode": {
     "languageId": "typescript"
    }
   },
   "outputs": [],
   "source": [
    "const name = 'John Doe'   // Inference (Implicit) to string literal ('John Doe' เท่านั้น)\n",
    "let location = 'Thailand' // Inference (Implicit) to string\n",
    "let age = 18              // Inference (Implicit) to number\n",
    "let jobActive = true      // Inference (Implicit) to boolean\n",
    "\n",
    "age = 19   // ✅\n",
    "age++      // ✅\n",
    "age = '21' // ❌ Type 'string' is not assignable to type 'number'.\n",
    "\n",
    "let product: string = 'Laptop' // Reference (Explicit) to string\n",
    "let cost: number = 29000       // Reference (Explicit) to number\n",
    "let inStock: boolean = true    // Reference (Explicit) to boolean\n",
    "\n",
    "cost = 27900    // ✅\n",
    "cost *= 0.8     // ✅\n",
    "cost = '29,000' // ❌ Type 'string' is not assignable to type 'number'."
   ]
  },
  {
   "cell_type": "markdown",
   "id": "209c8fb6",
   "metadata": {},
   "source": [
    "### Defining Types: ภาพรวมการกำหนดประเภทข้อมูล (Type Annotation)\n",
    "\n",
    "- Type Annotation คือ การระบุชนิดข้อมูลให้กับตัวแปร ฟังก์ชัน หรือพารามิเตอร์ใน TypeScript"
   ]
  },
  {
   "cell_type": "code",
   "execution_count": null,
   "id": "a41e1d54",
   "metadata": {
    "vscode": {
     "languageId": "typescript"
    }
   },
   "outputs": [],
   "source": [
    "const name: string = 'John Doe'\n",
    "const age: number = 18\n",
    "const active: boolean = true\n",
    "const birthDate: Date = new Date('1998-01-01')\n",
    "const classrooms: string[] = ['A1', 'B2', 'C3']\n",
    "const subjectList: { subject: string; score: number }[] = [\n",
    "  { subject: 'Math', score: 80 },\n",
    "  { subject: 'English', score: 75 },\n",
    "]\n",
    "const getSubjectScore1: ((subject: string) => number) = (subject) => {\n",
    "  return subjectList.find((item) => item.subject === subject)?.score ?? -1 // -1 ถ้าไม่พบ subject\n",
    "}\n",
    "function getSubjectScore2(subject: string): number {\n",
    "  return subjectList.find((item) => item.subject === subject)?.score ?? -1 // -1 ถ้าไม่พบ subject\n",
    "}"
   ]
  },
  {
   "cell_type": "markdown",
   "id": "94871e06",
   "metadata": {},
   "source": [
    "### Defining Types: ภาพรวมการกำหนดประเภทข้อมูล (Aliases & Composing & Literal / 1)\n"
   ]
  },
  {
   "cell_type": "markdown",
   "id": "d1ce5ae4",
   "metadata": {},
   "source": [
    "หัวข้อนี้หมายถึงการกำหนดประเภทข้อมูลใน TypeScript ด้วยวิธีที่หลากหลาย เช่น\n",
    "\n",
    "- **Aliases**: การตั้งชื่อประเภทข้อมูลใหม่เพื่อใช้ซ้ำ เช่น\n",
    "  ```typescript\n",
    "  type UserId = number;\n",
    "  type UserName = string;\n",
    "  ```\n",
    "\n",
    "- **Composing**: การรวมประเภทข้อมูลหลายแบบ เช่น Union, Intersection\n",
    "  ```typescript\n",
    "  type Status = \"active\" | \"inactive\"; // Union\n",
    "  type User = { id: number } & { name: string }; // Intersection\n",
    "  ```\n",
    "\n",
    "- **Literal**: การกำหนดค่าคงที่ให้กับประเภทข้อมูล เช่น\n",
    "  ```typescript\n",
    "  type Role = \"admin\" | \"user\" | \"guest\";\n",
    "  ```"
   ]
  },
  {
   "cell_type": "markdown",
   "id": "b987ef71",
   "metadata": {},
   "source": [
    "ตัวอย่างการใช้งาน"
   ]
  },
  {
   "cell_type": "code",
   "execution_count": null,
   "id": "dbef8796",
   "metadata": {
    "vscode": {
     "languageId": "typescript"
    }
   },
   "outputs": [],
   "source": [
    "const name: string = 'John Doe'\n",
    "const age: number = 18\n",
    "const active: boolean = true\n",
    "const birthDate: Date = new Date('1998-01-01')\n",
    "const classrooms: string[] = ['A1', 'B2', 'C3']\n",
    "const subjectList: { subject: string; score: number }[] = [\n",
    "  { subject: 'Math', score: 80 },\n",
    "  { subject: 'English', score: 75 },\n",
    "]\n",
    "const getSubjectScore1: ((subject: string) => number) = (subject) => {\n",
    "  return subjectList.find((item) => item.subject === subject)?.score ?? -1 // -1 ถ้าไม่พบ subject\n",
    "}\n",
    "function getSubjectScore2(subject: string): number {\n",
    "  return subjectList.find((item) => item.subject === subject)?.score ?? -1 // -1 ถ้าไม่พบ subject\n",
    "}"
   ]
  },
  {
   "cell_type": "markdown",
   "id": "a47be60e",
   "metadata": {},
   "source": [
    "### Defining Types: ภาพรวมการกำหนดประเภทข้อมูล (Aliases & Composing & Literal / 2)"
   ]
  },
  {
   "cell_type": "code",
   "execution_count": null,
   "id": "ea19eb7b",
   "metadata": {
    "vscode": {
     "languageId": "typescript"
    }
   },
   "outputs": [],
   "source": [
    "// String Literal\n",
    "type Position = 'left' | 'right' | 'center' | undefined\n",
    "const position1: Position = 'left'\n",
    "const position2: Position = 'center'\n",
    "let position3: Position\n",
    "\n",
    "// Intersection (Composing)\n",
    "type ProductInfo = { name: string; price: number; }\n",
    "type ProductComputerDetail = { os: 'Windows' | 'macOS'; cpu: string; ram: number; }\n",
    "type ProductSmartphoneDetail = { os: 'Android' | 'iOS', cpu: string; ram: number; }\n",
    "type Computer = ProductInfo & ProductComputerDetail // เอา Type ProductInfo มารวมกับ ProductComputerDetail\n",
    "type Smartphone = ProductInfo & ProductSmartphoneDetail\n",
    "\n",
    "const pc: Computer = { name: 'Good Laptop', price: 29000, os: 'Windows', cpu: 'Intel', ram: 8 }\n",
    "const mac: Computer = { name: 'Great Laptop', price: 39000, os: 'macOS', cpu: 'Apple', ram: 16 }\n",
    "const phone: Smartphone = { name: 'iPhone 13', price: 26000, os: 'iOS', cpu: 'Apple', ram: 8 }"
   ]
  },
  {
   "cell_type": "markdown",
   "id": "4305a9bb",
   "metadata": {},
   "source": [
    "### Defining Types: ภาพรวมการกำหนดประเภทข้อมูล (Optional)"
   ]
  },
  {
   "cell_type": "markdown",
   "id": "2aaba328",
   "metadata": {},
   "source": [
    "- เครื่องหมาย ? ใน TypeScript ใช้สำหรับระบุว่านั้นเป็น \"optional\" (ไม่จำเป็นต้องมี) ถ้าไม่ใส่ค่าก็ไม่ error"
   ]
  },
  {
   "cell_type": "code",
   "execution_count": null,
   "id": "b5f15768",
   "metadata": {
    "vscode": {
     "languageId": "typescript"
    }
   },
   "outputs": [],
   "source": [
    "type Config = {\n",
    "  mode: 'production' | 'development' | 'testing'\n",
    "  url: string\n",
    "  port?: number\n",
    "  debug: boolean | undefined // ใช้แบบ ?: แทนได้\n",
    "  experimental?: { // ? ส่งค่าได้หรือไม่ก็ได้เป็น Optional\n",
    "    featureA?: boolean\n",
    "    featureB?: boolean\n",
    "    featureC?: boolean\n",
    "  }\n",
    "}\n",
    "\n",
    "function addUser(name: string, birthDate?: Date, location?: string) {\n",
    "  // Error เพราะว่า birthDate อาจจะไม่มีก็ได้ ควรใช้ ?: สำหรับ Optional Parameters\n",
    "}"
   ]
  },
  {
   "cell_type": "markdown",
   "id": "2b7c6bab",
   "metadata": {},
   "source": [
    "### Defining Types: ภาพรวมการกำหนดประเภทข้อมูล (Generics)"
   ]
  },
  {
   "cell_type": "markdown",
   "id": "0dd68daf",
   "metadata": {},
   "source": [
    "- **Generics** : การกำหนดประเภทข้อมูลแบบยืดหยุ่นใน TypeScript\n",
    "\n",
    "- ช่วยให้ฟังก์ชัน คลาส หรือ type สามารถรับข้อมูลหลายชนิด โดยไม่ต้องระบุชนิดข้อมูลล่วงหน้า"
   ]
  },
  {
   "cell_type": "markdown",
   "id": "3edca819",
   "metadata": {},
   "source": [
    "ในตัวอย่างนี้ ``<T>`` คือ Generics\n",
    "สามารถใช้กับ array, function, class, interface ฯลฯ"
   ]
  },
  {
   "cell_type": "code",
   "execution_count": null,
   "id": "01503f34",
   "metadata": {
    "vscode": {
     "languageId": "typescript"
    }
   },
   "outputs": [],
   "source": [
    "// Generics (Composing)\n",
    "const numbers1: Array<number> = [1, 2, 3, 4, 5]\n",
    "const numbers2: number[] = [1, 2, 3, 4, 5]\n",
    "\n",
    "type PostData = {\n",
    "  userId: number\n",
    "  id: number\n",
    "  title: string\n",
    "  body: string\n",
    "}\n",
    "\n",
    "// เมื่อเป็น Async Function เราจะจำเป็นต้อง Return Promise<Type>\n",
    "async function fetchData<T>(url: string): Promise<T> {\n",
    "  return await fetch(url).then((res) => res.json())\n",
    "}\n",
    "\n",
    "const data1 = await fetchData<PostData>('https://jsonplaceholder.typicode.com/posts/1')\n",
    "const data2 = await fetchData<PostData[]>('https://jsonplaceholder.typicode.com/posts')\n",
    "const data3 = await fetchData<{ id: number; title: string;}>('https://dummyjson.com/products/1?select=title')"
   ]
  },
  {
   "cell_type": "markdown",
   "id": "e0d2af71",
   "metadata": {},
   "source": [
    "### Defining Types: ภาพรวมการกำหนดประเภทข้อมูล (Type Assertion)"
   ]
  },
  {
   "cell_type": "code",
   "execution_count": null,
   "id": "e26b42ef",
   "metadata": {
    "vscode": {
     "languageId": "typescript"
    }
   },
   "outputs": [],
   "source": [
    "const el = document.querySelector('input') as HTMLInputElement | null\n",
    "// const el = <HTMLInputElement | null>document.querySelector('input')\n",
    "if (el) {\n",
    "  el.value = 'Hello, world!'\n",
    "  el.focus()\n",
    "}\n",
    "\n",
    "type ProductData = {\n",
    "  id: number\n",
    "  title: string\n",
    "}\n",
    "\n",
    "const response = await fetch('https://jsonplaceholder.typicode.com/posts/1')\n",
    "const data = await response.json() as ProductData\n",
    "\n",
    "console.log(data.title)"
   ]
  },
  {
   "cell_type": "markdown",
   "id": "82430044",
   "metadata": {},
   "source": [
    "### Defining Types: ภาพรวมการกำหนดประเภทข้อมูล (Literal Inference)"
   ]
  },
  {
   "cell_type": "code",
   "execution_count": null,
   "id": "c8c8737c",
   "metadata": {
    "vscode": {
     "languageId": "typescript"
    }
   },
   "outputs": [],
   "source": [
    "const features1 = { // 👉 Literal Interface\n",
    "  login: true,\n",
    "  register: true,\n",
    "  profile: false,\n",
    "  admin: true,\n",
    "}\n",
    "\n",
    "features1.admin = false // ✅\n",
    "features1.forum = true  // ❌ Property '...' does not exist on type '{ ... }'\n",
    "\n",
    "// * การใช้งาน Record\n",
    "// Record<string, boolean> จะกำหนดคีย์เป็น string และค่าที่เป็น\n",
    "// Record จะใช้ในกรีณีที่เราตอาจจะต้อวการเพิ่มคีย์ใหม่ๆ ในอนาคต\n",
    "const features2: Record<string, boolean | string> = {\n",
    "  login: true,\n",
    "  register: true,\n",
    "  profile: false,\n",
    "  admin: 'supakun',\n",
    "}\n",
    "// or\n",
    "const features3: { [key: string]: boolean } = {\n",
    "  //\n",
    "}\n",
    "// or\n",
    "const features4 = {\n",
    "  login: true,\n",
    "  register: true,\n",
    "  profile: false,\n",
    "  admin: true,\n",
    "  [string]: boolean, // ใช้เพื่อกำหนดคีย์ที่เป็น string และค่าที่เป็น boolean สามารถเพิ่มคีย์ใหม่ได้ในอนาคต\n",
    "}\n",
    "\n",
    "// * type vs Record\n",
    "//ผลลัพธ์ที่ได้จะเหมือนกัน แต่ Record จะมีความยืดหยุ่นมากกว่าในการกำหนดประเภทข้อมูลของคีย์และค่า"
   ]
  },
  {
   "cell_type": "markdown",
   "id": "770759c6",
   "metadata": {},
   "source": [
    "### Modules: การใช้งานบน ES Module"
   ]
  },
  {
   "cell_type": "code",
   "execution_count": null,
   "id": "2eb8611e",
   "metadata": {
    "vscode": {
     "languageId": "typescript"
    }
   },
   "outputs": [],
   "source": [
    "// ./users.ts\n",
    "export const users: User[] = []\n",
    "\n",
    "export type User = {\n",
    "  id: number\n",
    "  name: string\n",
    "  email: string\n",
    "}\n",
    "\n",
    "export const addUser = (user: Omit<User, 'id'>) => {\n",
    "  users.push({ ...user, id: users.length + 1 })\n",
    "}\n",
    "\n",
    "export function getUser(id: number): User | undefined {\n",
    "  return users.find((user) => user.id === id)\n",
    "}"
   ]
  },
  {
   "cell_type": "code",
   "execution_count": null,
   "id": "87e85ee9",
   "metadata": {
    "vscode": {
     "languageId": "typescript"
    }
   },
   "outputs": [],
   "source": [
    "// ./index.ts\n",
    "import { users, addUser, getUser } from './users'\n",
    "\n",
    "addUser({ name: 'John', email: 'john@example.com' })\n",
    "addUser({ name: 'Jane', email: 'jane@example.com' })\n",
    "const user = getUser(1)"
   ]
  },
  {
   "cell_type": "markdown",
   "id": "98055b64",
   "metadata": {},
   "source": [
    "### Type Aliases vs Interfaces: ข้อแตกต่างการใช้งาน"
   ]
  },
  {
   "cell_type": "markdown",
   "id": "ad8afbee",
   "metadata": {},
   "source": [
    "หัวข้อนี้หมายถึงการใช้งาน Type aliases และ Interfaces\n",
    "\n",
    "- **Type Aliases**: รองรับ Union, Intersection, Tuple, Primitive ไม่สามารถ merge/reopen ได้\n",
    "  ```typescript\n",
    "  type User = {\n",
    "    id: number\n",
    "    name: string\n",
    "  }\n",
    "  \n",
    "  type Admin = User & {\n",
    "    role: 'admin'\n",
    "  }\n",
    "  ```\n",
    "\n",
    "- **Interfaces**: เน้นโครงสร้าง Object และสามารถ extends/implements สามารถ merge (ประกาศซ้ำแล้วรวมกันได้)\n",
    "  ```typescript\n",
    "  interface User {\n",
    "    id: number\n",
    "    name: string\n",
    "  }\n",
    "  \n",
    "  interface Admin extends User { // การใช้ extends เพื่อสืบทอดคุณสมบัติจาก User\n",
    "    role: 'admin'\n",
    "  }\n",
    "  ```"
   ]
  },
  {
   "cell_type": "code",
   "execution_count": null,
   "id": "3f6c5f33",
   "metadata": {
    "vscode": {
     "languageId": "typescript"
    }
   },
   "outputs": [],
   "source": [
    "// ความแตกต่างระหว่าง Type Aliases และ Interfaces ใน TypeScript:\n",
    "\n",
    "// Type Aliases ไม่สามารถ Merge Interface ได้\n",
    "interface User {\n",
    "  id: number\n",
    "  name: string\n",
    "}\n",
    "interface User {\n",
    "  role: 'admin' | 'member'\n",
    "}\n",
    "const user: User = { id: 1, name: 'John', role: 'member' }"
   ]
  },
  {
   "cell_type": "markdown",
   "id": "fa197c91",
   "metadata": {},
   "source": [
    "สรุปการใช้งาน :\n",
    "- ถ้าต้องการความยืดหยุ่นสูง ใช้ type\n",
    "- ถ้าต้องการขยาย/สืบทอดโครงสร้าง ใช้ interface\n",
    "- ในงานจริงมักใช้ร่วมกันตามความเหมาะสม"
   ]
  },
  {
   "cell_type": "markdown",
   "id": "8798e57d",
   "metadata": {},
   "source": [
    "### Types: ประเภทของข้อมูล (ภาพรวม)"
   ]
  },
  {
   "cell_type": "code",
   "execution_count": null,
   "id": "0d8432ee",
   "metadata": {
    "vscode": {
     "languageId": "typescript"
    }
   },
   "outputs": [],
   "source": [
    "const name: string = 'John'\n",
    "const age: number = 18\n",
    "const active: boolean = true\n",
    "const birthDate: Date = new Date('1998-01-01')\n",
    "const classrooms: string[] = ['A1', 'B2', 'C3'] // หรือ Array<string>\n",
    "const person: Record<string, any> = {           // หรือ { [key: string]: any ] }\n",
    "  name: 'John',\n",
    "  age: 18,\n",
    "}\n",
    "\n",
    "const data: any = 'any types' // จะเป็น Types อะไรก็ได้ (ไม่ควรใช้อย่างมาก ใช้ได้เป็นบางกรณี จึงควรตั้งค่า noImplicitAny: true)\n",
    "try {\n",
    "  // ...\n",
    "} catch (error) {\n",
    "  error // unknown จะเป็น Type ที่จะได้จากการที่ไม่ทราบว่า Error คืออะไร (คล้าย any แต่จะไม่สามารถเรียกข้อมูลอะไรได้ จนกว่าจะทำการ Narrow)\n",
    "}\n",
    "\n",
    "function printName(): void { // return ได้ แต่ห้ามส่งข้อมูลอะไรผ่าน return (undefined only)\n",
    "  if (!person.name || typeof person.name !== 'string') {\n",
    "    return\n",
    "  }\n",
    "  console.log(person.name)\n",
    "}\n",
    "function infiniteLoop(runCallback?: () => any): never { // ไม่มีการ return หรือมีแค่ throw เท่านั้น\n",
    "  if (runCallback === undefined) {\n",
    "    throw new Error('seconds must be a number')\n",
    "  }\n",
    "  while (true) {\n",
    "    runCallback()\n",
    "  }\n",
    "}"
   ]
  },
  {
   "cell_type": "markdown",
   "id": "f9d781f7",
   "metadata": {},
   "source": [
    "### Types: ประเภทของข้อมูล (Immutable)"
   ]
  },
  {
   "cell_type": "markdown",
   "id": "5faca0fb",
   "metadata": {},
   "source": [
    "ประเภทของข้อมูล (Immutable) ใน TypeScript\n",
    "\n",
    "- **Immutable** หมายถึง ข้อมูลที่ไม่สามารถเปลี่ยนแปลงค่าได้หลังจากกำหนดค่าแล้ว เช่น <br>\n",
    "การใช้ ``readonly`` กับ property ใน object หรือ class\n",
    "\n",
    "- เหมาะกับข้อมูลที่ต้องการความปลอดภัยและไม่ให้แก้ไขหลังสร้าง"
   ]
  },
  {
   "cell_type": "code",
   "execution_count": null,
   "id": "e1912c03",
   "metadata": {
    "vscode": {
     "languageId": "typescript"
    }
   },
   "outputs": [],
   "source": [
    "// Object (interface)\n",
    "interface Config {\n",
    "  mode: 'production' | 'development' | 'testing'\n",
    "  readonly databasePassword: string // กำหนดให้เป็น read-only ไม่สามารถเปลี่ยนแปลงได้\n",
    "  experimental?: {\n",
    "    featureA?: boolean\n",
    "    featureB?: boolean\n",
    "  }\n",
    "}\n",
    "const config: Config = {\n",
    "  mode: 'production',\n",
    "  databasePassword: 'originPassword',\n",
    "}\n",
    "config.databasePassword = 'newPassword' // ❌ Cannot assign to '...' because it is a read-only property.\n",
    "\n",
    "// OOP (class)\n",
    "class User {\n",
    "  readonly id: number\n",
    "  email: string\n",
    "  constructor(id: number, email: string) {\n",
    "    this.id = id\n",
    "    this.email = email\n",
    "  }\n",
    "}\n",
    "const user = new User(1, 'jane@example.com')\n",
    "user.email = 'jane@another.xyz'\n",
    "user.id = 99 // ❌ Cannot assign to '...' because it is a read-only property."
   ]
  },
  {
   "cell_type": "markdown",
   "id": "3a67e37b",
   "metadata": {},
   "source": [
    "### Types: ประเภทของข้อมูล (Index Signature)"
   ]
  },
  {
   "cell_type": "markdown",
   "id": "2d7784ad",
   "metadata": {},
   "source": [
    "ประเภทของข้อมูล (Immutable) ใน TypeScript\n",
    "\n",
    "- **Index Signature** คือการกำหนดรูปแบบของ key และ value ใน object ที่ไม่รู้ล่วงหน้าว่าจะมี key อะไรบ้าง\n",
    "\n",
    "- ใช้สำหรับ object ที่ต้องการให้สามารถเพิ่ม key ใหม่ๆ ได้ โดยกำหนดชนิดข้อมูลของ key และ value"
   ]
  },
  {
   "cell_type": "code",
   "execution_count": null,
   "id": "dfaf933a",
   "metadata": {
    "vscode": {
     "languageId": "typescript"
    }
   },
   "outputs": [],
   "source": [
    "// Index Signature\n",
    "interface Post {\n",
    "  id: number\n",
    "  title: string\n",
    "  [key: string]: string | number // สามารถมีคีย์เพิ่มเติมที่ไม่รู้ล่วงหน้าได้\n",
    "}\n",
    "const post: Post = {\n",
    "  id: 1,\n",
    "  title: 'Hello, world!',\n",
    "  author: 'John Doe',\n",
    "  views: 100\n",
    "}\n",
    "\n",
    "// Generics\n",
    "interface ProductInStockList extends Record<string, boolean> { // ใช้ Record เพื่อกำหนดคีย์เป็น string และค่าที่เป็น boolean\n",
    "  smartphone: boolean\n",
    "  laptop: boolean\n",
    "}\n",
    "const list: ProductInStockList = {\n",
    "  smartphone: true, // ต้องกำหนดเพราะเป็นส่วนหนึ่งของ interface ไม่มีจะเกิด error\n",
    "  laptop: true, // ต้องกำหนดเพราะเป็นส่วนหนึ่งของ interface ไม่มีจะเกิด error\n",
    "  tablet: false,\n",
    "  monitor: true\n",
    "}"
   ]
  },
  {
   "cell_type": "markdown",
   "id": "ec1f65dd",
   "metadata": {},
   "source": [
    "### Types: ประเภทของข้อมูล (Enum)"
   ]
  },
  {
   "cell_type": "markdown",
   "id": "339859d4",
   "metadata": {},
   "source": [
    "ประเภทของข้อมูล Enum ใน TypeScript\n",
    "\n",
    "- การกำหนดชุดค่าคงที่ที่เกี่ยวข้องกัน เพื่อให้ใช้งานได้ง่ายและมีความหมายมากขึ้น\n",
    "\n",
    "- ทำให้โค้ดอ่านง่ายและมีความหมายป้องกันการใส่ค่าที่ไม่ถูกต้อง"
   ]
  },
  {
   "cell_type": "code",
   "execution_count": null,
   "id": "7d23a59a",
   "metadata": {
    "vscode": {
     "languageId": "typescript"
    }
   },
   "outputs": [],
   "source": [
    "// Without value\n",
    "enum Direction {\n",
    "  Top,    // = 0\n",
    "  Bottom, // = 1\n",
    "  Left,   // = 2\n",
    "  Right,  // = 3\n",
    "}\n",
    "const position: Direction = Direction.Bottom\n",
    "console.log(position) // 1\n",
    "\n",
    "// With value (string)\n",
    "enum CustomBoolean {\n",
    "  True = 'Yes',\n",
    "  False = 'No',\n",
    "}\n",
    "const isActive: CustomBoolean = CustomBoolean.True\n",
    "console.log(isActive) // 'Yes'\n",
    "\n",
    "// With value (number)\n",
    "enum HttpStatus {\n",
    "  OK = 200,\n",
    "  Created = 201,\n",
    "  BadRequest = 400,\n",
    "  Unauthorized = 401,\n",
    "  Forbidden = 403,\n",
    "  NotFound = 404,\n",
    "  InternalServerError = 500,\n",
    "}\n",
    "const status: HttpStatus = HttpStatus.NotFound\n",
    "console.log(status) // 404\n",
    "\n",
    "// Function with enum as parameter\n",
    "function handleRequest(status: HttpStatus) {\n",
    "  if (status === HttpStatus.OK) {\n",
    "    // 200...\n",
    "  } else if (status === HttpStatus.Created) {\n",
    "    // 201...\n",
    "  }\n",
    "}"
   ]
  },
  {
   "cell_type": "markdown",
   "id": "8c2aed32",
   "metadata": {},
   "source": [
    "### Types: ประเภทของข้อมูล (Indexed Access Types)\n",
    "\n",
    "- เป็นการตรวจสอบประเภทชนิดของข้อมูล"
   ]
  },
  {
   "cell_type": "code",
   "execution_count": null,
   "id": "613b5213",
   "metadata": {
    "vscode": {
     "languageId": "typescript"
    }
   },
   "outputs": [],
   "source": [
    "const foods = [\n",
    "  { name: 'Pizza', price: 190 },\n",
    "  { name: 'Burger', price: 65 },\n",
    "  { name: 'Pasta', price: 80 },\n",
    "]\n",
    "type Foods = typeof foods        // { name: string; price: number }[]\n",
    "type Food = typeof foods[number] // { name: string; price: number }\n",
    "const firedChicken: Food = { name: 'Fired Chicken', price: 95 }"
   ]
  },
  {
   "cell_type": "markdown",
   "id": "8e7b3a31",
   "metadata": {},
   "source": [
    "### Types: ประเภทของข้อมูล (Conditional Types)"
   ]
  },
  {
   "cell_type": "code",
   "execution_count": null,
   "id": "3d3d41e6",
   "metadata": {
    "vscode": {
     "languageId": "typescript"
    }
   },
   "outputs": [],
   "source": [
    "// T extends U ? X : Y\n",
    "type IsString<T> = T extends string ? true : false\n",
    "\n",
    "type S = IsString<string> // true\n",
    "type N = IsString<number> // false\n",
    "\n",
    "const string: S = true\n",
    "const number: N = false\n",
    "\n",
    "// Example with APIResponse\n",
    "type APIList = 'user' | 'post' | 'comment'\n",
    "\n",
    "type APIResponse<T> = T extends 'user'\n",
    "  ? { id: number; name: string }\n",
    "  : T extends 'post'\n",
    "  ? { id: number; title: string }\n",
    "  : T extends 'comment'\n",
    "  ? { id: number; message: string }\n",
    "  : never\n",
    "\n",
    "function fetchData<T extends APIList>(type: T): APIResponse<T> {\n",
    "  if (type === 'user') {\n",
    "    return { id: 1, name: 'John Doe' } as APIResponse<T>\n",
    "  } else if (type === 'post') {\n",
    "    return { id: 1, title: 'My First Post' } as APIResponse<T>\n",
    "  } else if (type === 'comment') {\n",
    "    return { id: 1, message: 'Hello, world!' } as APIResponse<T>\n",
    "  } else {\n",
    "    throw new Error('Invalid type')\n",
    "  }\n",
    "}\n",
    "\n",
    "const user = fetchData('user')\n",
    "const post = fetchData('post')\n",
    "const comment = fetchData('comment')\n",
    "const product = fetchData('product') // ❌"
   ]
  },
  {
   "cell_type": "markdown",
   "id": "917b153e",
   "metadata": {},
   "source": [
    "### Narrowing: การแยกประเภทข้อมูลที่มากกว่าหนึ่ง (Type Guards)\n",
    "\n",
    "- **Narrowing** คือการทำให้ TypeScript เข้าใจและจำกัดประเภทข้อมูลให้แคบลง/เฉพาะเจาะจงมากขึ้น"
   ]
  },
  {
   "cell_type": "code",
   "execution_count": null,
   "id": "e6c7a9f4",
   "metadata": {
    "vscode": {
     "languageId": "typescript"
    }
   },
   "outputs": [],
   "source": [
    "// Example 1\n",
    "interface User {\n",
    "  id: number\n",
    "  email: string\n",
    "  activated: boolean\n",
    "}\n",
    "\n",
    "const users: User[] = [\n",
    "  { id: 1, email: 'john@example.com', activated: true },\n",
    "  { id: 2, email: 'jane@example.com', activated: false },\n",
    "]\n",
    "\n",
    "function getUser(id: number): User | undefined {\n",
    "  return users.find((user) => user.id === id) // ถ้าไม่พบจะ return undefined อาจจะทำให้เกิด error ถ้าไม่ตรวจสอบ\n",
    "}\n",
    "\n",
    "const user = getUser(3)\n",
    "console.log(user.email)   // ❌ '...' is possibly 'undefined'.\n",
    "\n",
    "if (user) {\n",
    "  console.log(user.email) // ✅\n",
    "}\n",
    "\n",
    "// Example 2\n",
    "function setHeight(height: string | number): string {\n",
    "  // height function local scope = string | number\n",
    "  if (typeof height === 'number') { // type guard ตรวจสอบว่า height เป็น number หรือไม่ป้องกันการ return ค่า undefined\n",
    "    // height here = number only\n",
    "    return `${height}px`\n",
    "  }\n",
    "  // height here = string only\n",
    "  return !height.endsWith('px') ? `${height}px` : height\n",
    "}\n",
    "\n",
    "const height1 = setHeight(100)   // '100px'\n",
    "const height2 = setHeight('200') // '200px'\n",
    "console.log(height1)\n",
    "console.log(height2)"
   ]
  },
  {
   "cell_type": "markdown",
   "id": "9d70c970",
   "metadata": {},
   "source": [
    "### Narrowing: การแยกประเภทข้อมูลที่มากกว่าหนึ่ง (Equality)"
   ]
  },
  {
   "cell_type": "code",
   "execution_count": null,
   "id": "8e2337ac",
   "metadata": {
    "vscode": {
     "languageId": "typescript"
    }
   },
   "outputs": [],
   "source": [
    "type APIStatus =\n",
    "  | { status: 'success'; data: string }\n",
    "  | { status: 'error'; error: string }\n",
    "  | { status: 'loading' }\n",
    "\n",
    "function handleResponse(response: APIStatus) {\n",
    "  if (response.status === 'success') {\n",
    "    console.log(response.data)\n",
    "  } else if (response.status === 'error') {\n",
    "    console.error(response.error)\n",
    "  } else if (response.status === 'loading') {\n",
    "    console.log('Loading...')\n",
    "  }\n",
    "}\n",
    "\n",
    "handleResponse({ status: 'success', data: 'Here the data' })\n",
    "handleResponse({ status: 'error', error: 'There is error' })\n",
    "handleResponse({ status: 'loading' })"
   ]
  },
  {
   "cell_type": "markdown",
   "id": "24226468",
   "metadata": {},
   "source": [
    "### Narrowing: การแยกประเภทข้อมูลที่มากกว่าหนึ่ง (in)"
   ]
  },
  {
   "cell_type": "code",
   "execution_count": null,
   "id": "ac9d2625",
   "metadata": {
    "vscode": {
     "languageId": "typescript"
    }
   },
   "outputs": [],
   "source": [
    "type APIStatus =\n",
    "  | { status: 'success'; data: string }\n",
    "  | { status: 'error'; error: string }\n",
    "  | { status: 'loading' }\n",
    "\n",
    "function handleResponse(response: APIStatus) {\n",
    "  if ('data' in response) { // ถ้ามี data แสดงว่าเป็น success\n",
    "    console.log(response.data)\n",
    "  } else if ('error' in response) { // ถ้ามี error แสดงว่าเป็น error\n",
    "    console.error(response.error)\n",
    "  } else {\n",
    "    console.log('Loading...')\n",
    "  }\n",
    "}\n",
    "\n",
    "handleResponse({ status: 'success', data: 'Here the data' })\n",
    "handleResponse({ status: 'error', error: 'There is error' })\n",
    "handleResponse({ status: 'loading' })"
   ]
  },
  {
   "cell_type": "markdown",
   "id": "b70409da",
   "metadata": {},
   "source": [
    "### Narrowing: การแยกประเภทข้อมูลที่มากกว่าหนึ่ง (instanceof)"
   ]
  },
  {
   "cell_type": "code",
   "execution_count": null,
   "id": "82b2c2d2",
   "metadata": {
    "vscode": {
     "languageId": "typescript"
    }
   },
   "outputs": [],
   "source": [
    "class Circle {\n",
    "  radius: number\n",
    "  constructor(radius: number) {\n",
    "    this.radius = radius\n",
    "  }\n",
    "  getCircleArea() {\n",
    "    return Math.PI * this.radius * this.radius\n",
    "  }\n",
    "}\n",
    "\n",
    "class Rectangle {\n",
    "  width: number\n",
    "  height: number\n",
    "  constructor(width: number, height: number) {\n",
    "    this.width = width\n",
    "    this.height = height\n",
    "  }\n",
    "  getRectangleArea() {\n",
    "    return this.width * this.height\n",
    "  }\n",
    "}\n",
    "\n",
    "function renderShape(shape: Circle | Rectangle) {\n",
    "  if (shape instanceof Circle) {\n",
    "    return shape.getCircleArea()\n",
    "  } else if (shape instanceof Rectangle) {\n",
    "    return shape.getRectangleArea()\n",
    "  }\n",
    "}\n",
    "\n",
    "console.log(renderShape(new Circle(10)))\n",
    "console.log(renderShape(new Rectangle(10, 20)))"
   ]
  },
  {
   "cell_type": "markdown",
   "id": "ce1c97ca",
   "metadata": {},
   "source": [
    "### Narrowing: การแยกประเภทข้อมูลที่มากกว่าหนึ่ง (Predicates)"
   ]
  },
  {
   "cell_type": "code",
   "execution_count": null,
   "id": "5f80f6eb",
   "metadata": {
    "vscode": {
     "languageId": "typescript"
    }
   },
   "outputs": [],
   "source": [
    "function isNumber(value: any): value is number {\n",
    "  return typeof value === 'number'\n",
    "}\n",
    "\n",
    "function isString(value: any): value is string {\n",
    "  return typeof value === 'string'\n",
    "}\n",
    "\n",
    "function trimAll(input: any) {\n",
    "  // input outside scope = any\n",
    "  if (isNumber(input)) {\n",
    "    // input inside scope = number\n",
    "    return String(input)\n",
    "  } else if (isString(input)) {\n",
    "    // input inside scope = string\n",
    "    return input.trim()\n",
    "  } else {\n",
    "    return String(input).trim()\n",
    "  }\n",
    "}\n",
    "\n",
    "console.log(trimAll(10))\n",
    "console.log(trimAll('  10  '))"
   ]
  },
  {
   "cell_type": "markdown",
   "id": "c7f4438c",
   "metadata": {},
   "source": [
    "### Narrowing: การแยกประเภทข้อมูลที่มากกว่าหนึ่ง (Assertion)"
   ]
  },
  {
   "cell_type": "code",
   "execution_count": null,
   "id": "ba27397b",
   "metadata": {
    "vscode": {
     "languageId": "typescript"
    }
   },
   "outputs": [],
   "source": [
    "(document.querySelector('form#login') as HTMLFormElement).addEventListener('submit', (event) => {\n",
    "  event.preventDefault()\n",
    "  const form = event.target as HTMLFormElement\n",
    "  const email = form.querySelector('input#email') as HTMLInputElement\n",
    "  const password = form.querySelector('input#password') as HTMLInputElement\n",
    "  console.log(email.value, password.value)\n",
    "})\n",
    "\n",
    "const links = document.querySelectorAll('a') as NodeListOf<HTMLAnchorElement>\n",
    "links.forEach((link) => {\n",
    "  link.addEventListener('click', (event) => {\n",
    "    console.log('Going to:', link.href)\n",
    "  })\n",
    "})"
   ]
  },
  {
   "cell_type": "markdown",
   "id": "a4afcbb8",
   "metadata": {},
   "source": [
    "### Generics: การใช้งาน Generics (Function)"
   ]
  },
  {
   "cell_type": "code",
   "execution_count": null,
   "id": "012013e4",
   "metadata": {
    "vscode": {
     "languageId": "typescript"
    }
   },
   "outputs": [],
   "source": [
    "// นิยมใช้ T ย่อมาจาก Type (เหมือน i ย่อมาจาก Index)\n",
    "function getFirst<T>(arr: T[]): T | undefined {\n",
    "  return arr[0]\n",
    "}\n",
    "\n",
    "const alpha = getFirst(['a', 'b', 'c'])\n",
    "const num = getFirst([1, 2, 3])\n",
    "const multiple = getFirst([true, 1, 'a'])\n",
    "console.log('getFirst():', alpha, num, multiple)\n",
    "\n",
    "// T, U, V เหมือนกับชื่อตัวแปร i, j, k ตอนลูป\n",
    "function map<T, U>(arr: T[], fn: (item: T) => U): U[] {\n",
    "  return arr.map(fn)\n",
    "}\n",
    "\n",
    "// 👉 Inference\n",
    "const multipleNumbers = map([1, 2, 3], (num) => num * 2)\n",
    "// const multipleNumbers = map<number, number>([1, 2, 3], (num) => num * 2)\n",
    "\n",
    "// 👉 Reference\n",
    "const allLengths = map<string | number, number | undefined>(['abc123', 1200], (data) => {\n",
    "  if (typeof data === 'string') {\n",
    "    return data.length\n",
    "  } else if (typeof data === 'number') {\n",
    "    return data.toString().length\n",
    "  }\n",
    "})\n",
    "\n",
    "console.log('map():', multipleNumbers, allLengths)\n",
    "\n",
    "// 👉 Constraints\n",
    "function getLongest<T extends { length: number }>(a: T, b: T): T {\n",
    "  return a.length > b.length ? a : b\n",
    "}\n",
    "\n",
    "class Resolution {\n",
    "  width: number\n",
    "  height: number\n",
    "  constructor(width: number, height: number) {\n",
    "    this.width = width\n",
    "    this.height = height\n",
    "  }\n",
    "  get length() { // ต้องมี .length เพื่อให้ใช้งานได้ เลยต้องใช้ Getter\n",
    "    return this.width * this.height\n",
    "  }\n",
    "}\n",
    "\n",
    "const longerArr = getLongest([1, 2], [3, 4, 5])\n",
    "const longerStr = getLongest('abc', 'defghi')\n",
    "const largerRes = getLongest(new Resolution(1920, 1080), new Resolution(1280, 720))\n",
    "console.log('getLongest():', longerArr, longerStr, largerRes)"
   ]
  },
  {
   "cell_type": "markdown",
   "id": "fe641c1c",
   "metadata": {},
   "source": [
    "### Function Overloads: รูปแบบของฟังก์ชั่นที่หลากหลาย"
   ]
  },
  {
   "cell_type": "code",
   "execution_count": null,
   "id": "df53b81d",
   "metadata": {
    "vscode": {
     "languageId": "typescript"
    }
   },
   "outputs": [],
   "source": [
    "// Example 1\n",
    "function getFirst(arr: string[]): string\n",
    "function getFirst(arr: number[]): number\n",
    "function getFirst(arr: boolean[]): boolean\n",
    "function getFirst(arr: any[]): any {\n",
    "  return arr[0]\n",
    "}\n",
    "\n",
    "const num = getFirst([1, 2, 3])\n",
    "const str = getFirst(['a', 'b', 'c'])\n",
    "const bool = getFirst([true, false, true])\n",
    "console.log('getFirst():', num, str, bool)\n",
    "\n",
    "// Example 2 (with Predicates)\n",
    "function isStringArray(items: (string | number)[]): items is string[] {\n",
    "  return items.every(item => typeof item === 'string')\n",
    "}\n",
    "function isNumberArray(items: (string | number)[]): items is number[] {\n",
    "  return items.every(item => typeof item === 'number')\n",
    "}\n",
    "function search(items: string[], query: string): string[]\n",
    "function search(items: number[], query: string): number[]\n",
    "function search(items: (string | number)[], query: string): (string | number)[] | undefined {\n",
    "  if (isStringArray(items)) {\n",
    "    return items.filter(item => item.includes(query))\n",
    "  } else if (isNumberArray(items)) {\n",
    "    return items.filter(item => item.toString().includes(query))\n",
    "  }\n",
    "}\n",
    "\n",
    "const search1 = search(['a', 'b', 'c'], 'b')\n",
    "const search2 = search([1, 2, 3], '2')\n",
    "console.log('search():', search1, search2)\n",
    "\n",
    "// Example 3\n",
    "function request(url: string, method: 'GET', query?: Record<string, any>): Promise<string>\n",
    "function request(url: string, method: 'POST', body: Record<string, any>, query?: Record<string, any>): Promise<string>\n",
    "function request(url: string, method: 'PUT', body: Record<string, any>, query?: Record<string, any>): Promise<string>\n",
    "function request(url: string, method: 'PATCH', body: Record<string, any>, query?: Record<string, any>): Promise<string>\n",
    "function request(url: string, method: 'DELETE', query?: Record<string, any>): Promise<string>\n",
    "function request(url: string, method: 'GET' | 'POST' | 'PUT' | 'PATCH' | 'DELETE', body?: Record<string, any>, query?: Record<string, any>): Promise<string> {\n",
    "  // ...\n",
    "  return Promise.resolve('(Mock request)')\n",
    "}\n",
    "\n",
    "const result1 = await request('https://example.com', 'GET')\n",
    "const result2 = await request('https://example.com/api/subscribe', 'POST', { email: 'john@example.com' })"
   ]
  },
  {
   "cell_type": "markdown",
   "id": "0104cfa0",
   "metadata": {},
   "source": [
    "### Classes: การใช้งาน Class บน TypeScript (ภาพรวม)"
   ]
  },
  {
   "cell_type": "code",
   "execution_count": null,
   "id": "6af0111f",
   "metadata": {
    "vscode": {
     "languageId": "typescript"
    }
   },
   "outputs": [],
   "source": [
    "type EmployeeRole = 'junior' | 'intermediate' | 'senior' | 'manager'\n",
    "\n",
    "// กำหนด interface สำหรับการ implements ที่หมายถึงว่าจำเป็นต้องมีให้ตรงกัน\n",
    "interface Person {\n",
    "  id: string\n",
    "  name: string\n",
    "  getInfo(): string\n",
    "}\n",
    "\n",
    "class Employee implements Person {\n",
    "  readonly id: string          // อ่านได้อย่างเดียว ไม่สามารถเปลี่ยนแปลงได้\n",
    "  public name: string          // เข้าถึงได้ทุกที่\n",
    "  private salary: number       // เข้าถึงได้เฉพาะภายใน Class\n",
    "  protected role: EmployeeRole // เข้าถึงได้ทั้งภายใน Class และที่ถูก Inherit (extends)\n",
    "\n",
    "  // สามารถทำแบบ Shorthand Initialization ได้ เช่น\n",
    "  // 👉 constructor(public name: string, private salary: number, protected role: EmployeeRole) {}\n",
    "  // โดยไม่จำเป็นต้องประกาศ this.id = id และอื่นๆอีกด้วย\n",
    "  constructor(name: string, salary: number, role: EmployeeRole) {\n",
    "    this.id = 'EM' + Math.floor(Math.random() * 100000).toString().padStart(5, '0')\n",
    "    this.name = name\n",
    "    this.salary = salary\n",
    "    this.role = role\n",
    "  }\n",
    "\n",
    "  private getSalaryAsYearly() { // เรียกใช้งานได้เฉพาะภายใน Class\n",
    "    return this.salary * 12\n",
    "  }\n",
    "\n",
    "  getInfo() { // การที่ไม่เขียนอะไรนำหน้า = public\n",
    "    return `${this.id} ${this.name} ${this.getSalaryAsYearly()} ${this.role}`\n",
    "  }\n",
    "}"
   ]
  },
  {
   "cell_type": "markdown",
   "id": "8792fef9",
   "metadata": {},
   "source": [
    "### Classes: การใช้งาน Class บน TypeScript (Abstract)"
   ]
  },
  {
   "cell_type": "code",
   "execution_count": null,
   "id": "3a4938f5",
   "metadata": {
    "vscode": {
     "languageId": "typescript"
    }
   },
   "outputs": [],
   "source": [
    "// abstract คือ Class ที่คนอื่นจะ extends ได้ แต่ว่าจะไม่สามารถ new Instance ได้\n",
    "abstract class Shape {\n",
    "  abstract name: string\n",
    "  abstract size: Record<string, number>\n",
    "  abstract getArea(): number\n",
    "  describe(): string {\n",
    "    return `${this.name} with area ${this.getArea()} from ${JSON.stringify(this.size)}`\n",
    "  }\n",
    "}\n",
    "\n",
    "class Rectangle extends Shape {\n",
    "  name = 'Rectangle'\n",
    "  size: Record<string, number>\n",
    "  constructor(width: number, height: number) {\n",
    "    super() // จำเป็นต้องเรียก หากมีการ extends abstract\n",
    "    this.size = { width, height }\n",
    "  }\n",
    "  getArea(): number {\n",
    "    return this.size.width * this.size.height\n",
    "  }\n",
    "}\n",
    "\n",
    "const shape = new Shape() // ❌ Cannot create an instance of an abstract class.\n",
    "const rectangle = new Rectangle(20, 5)\n",
    "console.log(rectangle.describe())"
   ]
  },
  {
   "cell_type": "markdown",
   "id": "f0715a59",
   "metadata": {},
   "source": [
    "### Utility Types: ชุดคำสั่งสำหรับกำหนดประเภทข้อมูล"
   ]
  },
  {
   "cell_type": "code",
   "execution_count": null,
   "id": "898fda25",
   "metadata": {
    "vscode": {
     "languageId": "typescript"
    }
   },
   "outputs": [],
   "source": [
    "// Record<Keys, Type> กำหนดประเภทข้อมูล Object { [key: Keys]: Type] }\n",
    "interface User {\n",
    "  id: number\n",
    "  name: string\n",
    "  email: string\n",
    "  metadata: Record<string, string>\n",
    "}\n",
    "\n",
    "interface UserPost {\n",
    "  id: number\n",
    "  userId: number\n",
    "  title: string\n",
    "  createdAt?: Date | null\n",
    "}\n",
    "\n",
    "interface Config {\n",
    "  appName: string\n",
    "  version: string\n",
    "}\n",
    "\n",
    "// Readonly<Type> กำหนดให้ข้อมูลทั้งหมดกลายเป็น Readonly\n",
    "const config: Readonly<Config> = {\n",
    "  appName: 'My App',\n",
    "  version: '1.0.0',\n",
    "}\n",
    "const users: User[] = []\n",
    "const posts: UserPost[] = []\n",
    "\n",
    "// Pick<Type, Keys> สำหรับการเลือก Properties ที่จะนำไปใช้จาก  ** ใช้บ่อยมาก **\n",
    "// Omit<Type, Keys> ตรงกันข้ามกับข้างต้น (ไม่เลือก Properties ที่กำหนด) ** ใช้บ่อยมาก **\n",
    "\n",
    "function addUser(data: Pick<User, 'name' | 'email' | 'metadata'>) // Pick คือการเลือกเฉพาะ name, email, metadata จาก User ที่เป็น object ที่ส่งมา\n",
    "function addUser(data: Omit<User, 'id'>) { // Omit คือการเอา id ออกไป จาก User ที่เป็น object ที่ส่งมา\n",
    "  users.push({ ...data, id: users.length + 1 })\n",
    "}\n",
    "\n",
    "// Partial<Type> ช่วยกำหนดให้ข้อมูลทั้งหมด กลายเป็น Optional (?) เช่น name?, email? เป็นต้น\n",
    "function updateUser(id: number, updates: Partial<User>): void {\n",
    "  const user = users.find((user) => user.id === id)\n",
    "  if (!user) {\n",
    "    throw new Error('User not found')\n",
    "  }\n",
    "  Object.assign(user, updates)\n",
    "}\n",
    "\n",
    "// Parameters<Type> กำหนดข้อมูลตาม Parameters จาก Function (จะได้เป็น Array ตามตำแหน่ง)\n",
    "type UserUpdateInput = Parameters<typeof updateUser>\n",
    "const multipleInputs: UserUpdateInput[] = [\n",
    "  [1, { name: 'New Name' }],\n",
    "  [2, { email: 'new@example.com' }],\n",
    "]\n",
    "\n",
    "// Required<Type> กำหนดให้ข้อมูลทั้งหมดกลายเป็น Required (ตรงกันข้ามกับ Partial)\n",
    "// NonNullable<Type> กำหนดให้ข้อมูลทั้งหมดห้ามมี null หรือ undefined\n",
    "// 👉 function userCreatePost(post: NonNullable<UserPost>) {\n",
    "function userCreatePost(post: Required<UserPost>) {\n",
    "  posts.push(post)\n",
    "}\n",
    "\n",
    "function fetchUserWithPost(userId: number) {\n",
    "  const user = users.find((user) => user.id === userId)\n",
    "  if (!user) {\n",
    "    throw new Error('User not found')\n",
    "  }\n",
    "  const postList = posts.filter((post) => post.userId === userId)\n",
    "  return { ...user, posts: postList }\n",
    "}\n",
    "\n",
    "// ReturnType<typeof Type> กำหนดข้อมูลจาก return ของ Function\n",
    "type UserWithPost = ReturnType<typeof fetchUserWithPost>\n",
    "\n",
    "const newUserWithPost: UserWithPost = {\n",
    "  id: 99,\n",
    "  name: 'Anna Dev',\n",
    "  email: 'anna@example.com',\n",
    "  metadata: {},\n",
    "  posts: [\n",
    "    { id: 101, userId: 99, title: 'My First Post', createdAt: new Date('2024-01-29') },\n",
    "    { id: 102, userId: 99, title: 'My Second Post', createdAt: new Date('2024-02-03') },\n",
    "  ]\n",
    "}\n",
    "\n",
    "type AllRoles = 'admin' | 'member' | 'guest'\n",
    "\n",
    "// Exclude<Type, U> ลบข้อมูลจาก Type ตาม U ที่กำหนด\n",
    "// Extract<Type, U> ใช้ข้อมูลจาก Type ตาม U ที่กำหนด\n",
    "class Member {\n",
    "  role: Exclude<AllRoles, 'admin'> // เหลือ 'member' | 'guest'\n",
    "  constructor(public email: string, public password: string, public createdAt: Date) {\n",
    "    role = 'member'\n",
    "  }\n",
    "}\n",
    "\n",
    "// InstanceType<typeof Type> กำหนดข้อมูลจาก Instance ของ Class\n",
    "type MemberInstance = InstanceType<typeof Member>\n",
    "\n",
    "const members: MemberInstance[] = [\n",
    "  { email: 'a@example.com', password: '123456', createdAt: new Date('2023-01-01') },\n",
    "  { email: 'b@example.com', password: '123456', createdAt: new Date('2023-01-02') },\n",
    "]"
   ]
  },
  {
   "cell_type": "markdown",
   "id": "11456650",
   "metadata": {},
   "source": [
    "### Declaration Files: ไฟล์ประกาศประเภทข้อมูล (Internal .d.ts)\n",
    "\n",
    "- กรณีที่ NPM Packages บางตัวไม่มี DefinitelyTyped เราจำเป็นจะต้องสร้าง .d.ts หรือ Declaration Files <br> \n",
    "\n",
    "  ด้วยตนเองทั้งหมด กรณีตัวอย่างคือ Internal Modules ไม่ใช้ TypeScript เช่น"
   ]
  },
  {
   "cell_type": "code",
   "execution_count": null,
   "id": "622f80f1",
   "metadata": {
    "vscode": {
     "languageId": "typescript"
    }
   },
   "outputs": [],
   "source": [
    "// ❌ Could not find a declaration file for module '...'. '...' implicitly has an 'any' type.ts(7016)\n",
    "\n",
    "// 👉 ./src/utils/some-utils.js\n",
    "export function add(a, b) {\n",
    "  return a + b\n",
    "}\n",
    "\n",
    "export function formatUser(id, username, isActive, createdAt) {\n",
    "  return { id, username, isActive, createdAt }\n",
    "}\n",
    "\n",
    "// 👉 ./types/some-utils.d.ts\n",
    "declare module '@/utils/some-utils' {\n",
    "  export function add(a: number, b: number): number\n",
    "  export function formatUser(id: number, username: string, isActive: boolean, createdAt?: Date): {\n",
    "    id: number\n",
    "    username: string\n",
    "    isActive: boolean\n",
    "    createdAt?: Date\n",
    "  }\n",
    "}\n",
    "\n",
    "// 👉 ./src/index.ts\n",
    "import { add, formatUser } from './utils/some-utils'\n",
    "\n",
    "console.log(add(1, 2))\n",
    "console.log(formatUser(1, 'John Doe', true))\n",
    "\n",
    "// 👉 ./tsconfig.json\n",
    "\"compilerOptions\": {\n",
    "  // ...\n",
    "  \"baseUrl\": \"./src\", // กำหนดสถานที่ของ Source ทั้งหมด\n",
    "  \"paths\": {\n",
    "    \"@/*\": [\"./*\"]    // กำหนด Path แบบ Re-map ใหม่ ทำให้ใช้ Path ได้ตรงกัน\n",
    "  },\n",
    "  \"allowJs\": true,    // อนุญาตให้ใช้ .js (ไม่แนะนำ แต่ใช้กรณีที่โปรเจกต์เรามีไฟล์นี้)\n",
    "  \"outDir\": \"./dist\", // กำหนด Output Directory (ควรกำหนดหากเรา allowJs)\n",
    "}"
   ]
  },
  {
   "cell_type": "markdown",
   "id": "9efe76d6",
   "metadata": {},
   "source": [
    "### Declaration Files: ไฟล์ประกาภประเภทข้อมูล (External .d.ts)"
   ]
  },
  {
   "cell_type": "code",
   "execution_count": null,
   "id": "b1411ace",
   "metadata": {
    "vscode": {
     "languageId": "typescript"
    }
   },
   "outputs": [],
   "source": [
    "// pnpm i grate-escape (https://www.npmjs.com/package/great-escape)\n",
    "\n",
    "// 👉 ./types/grate-escape.d.ts\n",
    "declare module 'great-escape' {\n",
    "  export function escape(html: string): string;\n",
    "}\n",
    "\n",
    "// 👉 ./src/index.t\n",
    "import { escape } from 'great-escape'\n",
    "\n",
    "const html = '<h1>hello world</h1>'\n",
    "console.log(escape(html))"
   ]
  }
 ],
 "metadata": {
  "kernelspec": {
   "display_name": "JavaScript (Node.js)",
   "language": "javascript",
   "name": "javascript"
  },
  "language_info": {
   "name": "javascript"
  }
 },
 "nbformat": 4,
 "nbformat_minor": 5
}
