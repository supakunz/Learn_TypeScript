{
 "cells": [
  {
   "cell_type": "markdown",
   "id": "a04ec102",
   "metadata": {},
   "source": [
    "### การตั้งค่าใช้งาน tsconfig.json ไฟล์บน TypeScript\n",
    "\n",
    "- **tsconfig.json** : ไฟล์ที่ตั้งค่ากระบวนการทำงานของ TypeScript "
   ]
  },
  {
   "cell_type": "markdown",
   "id": "5ce756eb",
   "metadata": {},
   "source": [
    "##### ** ตัวสำคัญ **\n",
    "\n",
    "1.\"target\": \"es2016\" --> compiler TypeScript to JavaScript es2016 / version ที่ค้องการ\n",
    "\n",
    "2.\"rootDir\": \"./\" --> กำหนดโฟรเดอร์ที่เก็บไฟล์ TypeScript\n",
    "\n",
    "3.\"outDir\":\"./dist/\" --> กำหนดโฟรเดอร์ที่เก็บไฟล์ JavaScriptScript\n",
    "\n",
    "4.\"include\":[\"src\"] --> กำหนดขอบเขตไฟล์ที่จะทำการ compile\n",
    "\n",
    "##### ** คำสั่ง ** \n",
    "\n",
    "tsc --> compile ts to js\n",
    "\n",
    "tsc -w --> compile realtime (watch mode)"
   ]
  },
  {
   "cell_type": "markdown",
   "id": "d11bc909",
   "metadata": {},
   "source": [
    "* tsconfig.json: การตั้งค่าใช้งาน TypeScript (References / 1)\n",
    "- compilerOptions.target ตั้งค่าเป้าหมายที่จะ Compiler .js ออกมารูปแบบใด เช่น es6 es2023\n",
    "- compilerOptions.module กำหนด Module System ที่จะใช้งาน เช่น commonjs es6 es2022\n",
    "- compilerOptions.lib กำหนด Built-in API ที่จะใช้งาน เช่น es6 dom\n",
    "- compilerOptions.moduleResolution กำหนดรูปแบบ Module ที่จะใช้งาน เช่น node16 classic\n",
    "- compilerOptions.outDir ตั้งค่า Output Directory เมื่อทำการ Build\n",
    "- compilerOptions.rootDir ตั้งค่า Root Directory ของโปรเจกต์\n",
    "- compilerOptions.paths กำหนด Alias สำหรับ Import Module (มีประโยชน์สำหรับโปรเจกต์ขนาดใหญ่)\n",
    "- compilerOptions.sourceMap เปิดการใช้ Source Map (แนะนำ false เพราะช่วยปิดการค้นดู Source Code)\n",
    "- include กำหนดรายชื่อไฟล์หรือโฟลเดอร์ที่จะทำการ Compile (แนะนำ [\"src/**/*\"])\n",
    "- exclude กำหนดรายชื่อไฟล์หรือโฟลเดอร์ที่จะไม่ทำการ Compile (แนะนำ [\"node_modules\", \"dist\"])\n",
    "\n",
    "- compilerOptions.esModuleInterop กำหนดให้ CommonJS ทำงานเหมือน ES Module (แนะนำ true)\n",
    "- compilerOptions.skipLibCheck ข้ามการตรวจสอบ Type ของไฟล์ในโฟลเดอร์ node_modules <br> \n",
    "  \n",
    "  (แนะนำ true เพื่อเพิ่มความเร็วในการ Compile)\n",
    "- compilerOptions.resolveJsonModule กำหนดให้ TypeScript สามารถ Import ไฟล์ JSON ได้ (แนะนำ true)\n",
    "- compilerOptions.strict ตั้งค่าการใช้งาน Strict Mode (แนะนำ true)\n",
    "- compilerOptions.noImplicitAny ปิดการใช้งาน Implicit any (แนะนำกับบางโปรเจกต์ให้เป็น true)\n",
    "- compilerOptions.strictNullChecks ตั้งค่าตรวจสอบข้อมูลที่อาจจะเป็น Null (แนะนำ true)\n",
    "- compilerOptions.noUnusedLocals ห้ามมี Variable ที่ไม่ใช้งาน (แนะนำ true)\n",
    "- compilerOptions.noUnusedParameters ห้ามมี Parameters ที่ไม่ใช้งาน (แนะนำ true)"
   ]
  }
 ],
 "metadata": {
  "language_info": {
   "name": "python"
  }
 },
 "nbformat": 4,
 "nbformat_minor": 5
}
